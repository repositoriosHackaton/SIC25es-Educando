{
 "cells": [
  {
   "cell_type": "code",
   "execution_count": 1,
   "metadata": {
    "colab": {
     "base_uri": "https://localhost:8080/"
    },
    "id": "oitkxN6riHtf",
    "outputId": "268f478b-354e-4a68-ae8b-9847c083815a"
   },
   "outputs": [],
   "source": [
    "#Intalar chat pre entrenado\n",
    "#!pip install chatterbot\n",
    "#!pip install chatterbot_corpus\n"
   ]
  },
  {
   "cell_type": "code",
   "execution_count": 4,
   "metadata": {
    "colab": {
     "base_uri": "https://localhost:8080/"
    },
    "id": "dZW3BHYehcYn",
    "outputId": "69e78415-0c01-462a-d1ad-5f2faaf711c7"
   },
   "outputs": [
    {
     "name": "stderr",
     "output_type": "stream",
     "text": [
      "ChatterBot Corpus Trainer: 7it [00:01,  5.29it/s]\n",
      "ChatterBot Corpus Trainer: 1it [00:00, 20.27it/s]\n",
      "ChatterBot Corpus Trainer: 1it [00:00, 10.07it/s]\n"
     ]
    }
   ],
   "source": [
    "from chatterbot import ChatBot\n",
    "from chatterbot.trainers import ChatterBotCorpusTrainer\n",
    "\n",
    "# Crear una nueva instancia del chatbot\n",
    "chatbot = ChatBot(\"Asistente\")\n",
    "\n",
    "# Entrenar el chatbot con datos en español\n",
    "trainer = ChatterBotCorpusTrainer(chatbot)\n",
    "trainer.train(\"chatterbot.corpus.spanish\")\n",
    "\n",
    "#Entrenar con file\n",
    "trainer.train(\"content\\entrenar.json\")\n",
    "trainer.train(\"content\\preguntas.json\")"
   ]
  },
  {
   "cell_type": "code",
   "execution_count": null,
   "metadata": {
    "colab": {
     "base_uri": "https://localhost:8080/"
    },
    "id": "OvGhaZic45IK",
    "outputId": "07109235-a674-46e4-9423-a3e603c3ebbb"
   },
   "outputs": [
    {
     "name": "stdout",
     "output_type": "stream",
     "text": [
      "***Cardio Salud ES***\n",
      "1) Realizar formulario\n",
      "2) Explicame los datos necesarios\n",
      "3) Salir\n",
      "Nota: Recuerde que estos no son datos oficiales. Consulta con tu medico cualquier sintoma que presentes\n",
      "***Previene y cuida tu salud***\n"
     ]
    },
    {
     "name": "stdin",
     "output_type": "stream",
     "text": [
      "Tú:  LINK\n"
     ]
    },
    {
     "name": "stdout",
     "output_type": "stream",
     "text": [
      "Cardio Salud ES: Yo uso un poco de Python.\n"
     ]
    },
    {
     "name": "stdin",
     "output_type": "stream",
     "text": [
      "Tú:  op1\n"
     ]
    },
    {
     "name": "stdout",
     "output_type": "stream",
     "text": [
      "LINK\n",
      "Cardio Salud ES: Aquí tienes el formulario para completar.\n"
     ]
    }
   ],
   "source": [
    "despedida = ['salir', 'adios', 'chao', 'hasta luego', \"3\"]\n",
    "op1 = ['op1','opcion 1','opcion1','1', 'formulario']\n",
    "op2 = ['op2','2', 'opcion 2','opcion2']\n",
    "\n",
    "\n",
    "# Chat con el bot\n",
    "print(\"***Cardio Salud ES***\")\n",
    "print(\"1) Realizar formulario\")\n",
    "print(\"2) Explicame los datos necesarios\")\n",
    "print(\"3) Salir\")\n",
    "print(\"Nota: Recuerde que estos no son datos oficiales. Consulta con tu medico cualquier sintoma que presentes\")\n",
    "print(\"***Previene y cuida tu salud***\")\n",
    "\n",
    "while True:\n",
    "    user_input = input(\"Tú: \")\n",
    "    if user_input.lower() in despedida:\n",
    "        print(\"¡Adiós!\")\n",
    "        break\n",
    "    if user_input.lower() in op1:\n",
    "        print(\"LINK\")\n",
    "    if user_input.lower() in op2:\n",
    "        print(\"**DATOS NECESARIOS**\")\n",
    "        print(\"1.Edad\")\n",
    "        print(\"2.Genero\")\n",
    "        print(\"3.Dolor en el pecho (Anginas)\")\n",
    "        print(\"La angina de pecho es un tipo de dolor de pecho causado por la reducción del flujo sanguíneo al corazón. \")\n",
    "        print(\"4. Presion en sangre\")\n",
    "        print(\"La presión arterial es una fuerza que se ejerce en la sangre para que esta pueda recorrer todos los torrentes sanguíneos y así aportarle la vitalidad necesaria a los órganos.\")\n",
    "        print(\"5. Colesterol\")\n",
    "        print(\"El colesterol es una sustancia cerosa y parecida a la grasa que se encuentra en todas las células de su cuerpo. Su cuerpo necesita algo de colesterol para funcionar bien. Pero si tiene demasiado colesterol en su sangre, se puede pegar en las paredes de sus arterias, estrechándolas o incluso bloqueándolas\")\n",
    "        print(\"6. Tiene nivel de azucar alto?\")\n",
    "        print(\"La glucemia es la cantidad de glucosa que circula en la sangre y sirve como fuente de energía para el cuerpo\")\n",
    "        print(\"Se considera alta si se encuentra arriba de 120 mg/dl\")\n",
    "        print(\"7. Frecuencia cardiaca maxima\")\n",
    "        print(\"Es la cantidad máxima de veces que el corazón puede latir en un minuto\")\n",
    "        print(\"Puedes medirla con el dedo, el frecuencímetro o la calculadora\")\n",
    "        print(\"8. Presenta dolores de pecho al hacer ejercicio? (Anginas)\")\n",
    "\n",
    "    response = chatbot.get_response(user_input)\n",
    "    print(f\"Cardio Salud ES: {response}\")"
   ]
  },
  {
   "cell_type": "code",
   "execution_count": null,
   "metadata": {},
   "outputs": [],
   "source": []
  }
 ],
 "metadata": {
  "colab": {
   "provenance": []
  },
  "kernelspec": {
   "display_name": "Python 3 (ipykernel)",
   "language": "python",
   "name": "python3"
  },
  "language_info": {
   "codemirror_mode": {
    "name": "ipython",
    "version": 3
   },
   "file_extension": ".py",
   "mimetype": "text/x-python",
   "name": "python",
   "nbconvert_exporter": "python",
   "pygments_lexer": "ipython3",
   "version": "3.11.0"
  }
 },
 "nbformat": 4,
 "nbformat_minor": 4
}
